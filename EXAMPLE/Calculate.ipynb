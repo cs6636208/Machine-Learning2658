{
  "nbformat": 4,
  "nbformat_minor": 0,
  "metadata": {
    "colab": {
      "provenance": []
    },
    "kernelspec": {
      "name": "python3",
      "display_name": "Python 3"
    },
    "language_info": {
      "name": "python"
    }
  },
  "cells": [
    {
      "cell_type": "markdown",
      "source": [],
      "metadata": {
        "id": "GiI7ljrg7GJ1"
      }
    },
    {
      "cell_type": "code",
      "execution_count": null,
      "metadata": {
        "colab": {
          "base_uri": "https://localhost:8080/"
        },
        "id": "5sA8OOStmjm9",
        "outputId": "70ccb8c3-cc83-41e8-ff06-ec40e893d902"
      },
      "outputs": [
        {
          "output_type": "stream",
          "name": "stdout",
          "text": [
            "Backward pass for w6 (h2 -> o1):\n",
            "∂E/∂out_o1 = 0.74136507\n",
            "∂out_o1/∂net_o1 = 0.18681560\n",
            "∂net_o1/∂w6 = 0.59326999\n",
            "Final gradient ∂E/∂w6 = 0.08216704\n"
          ]
        }
      ],
      "source": [
        "import math\n",
        "\n",
        "# --- Helper functions ---\n",
        "def sigmoid(x):\n",
        "    return 1.0 / (1.0 + math.e**(-x))\n",
        "\n",
        "def dsigmoid(y):\n",
        "    \"\"\"Derivative of sigmoid, given output y. update ถ้าไม่ได้ใช้ sigmoid\"\"\"\n",
        "    return y * (1 - y)\n",
        "\n",
        "# --- Step 1: Forward pass values from the slide ---\n",
        "i1, i2 = 0.05, 0.10\n",
        "t1 = 0.01\n",
        "\n",
        "# Weights and biases\n",
        "w1, w2 = 0.15, 0.20\n",
        "w3, w4 = 0.25, 0.30\n",
        "b1 = 0.35\n",
        "w5, w6 = 0.40, 0.45\n",
        "w7, w8 = 0.50, 0.55\n",
        "b2 = 0.60\n",
        "\n",
        "# Hidden layer outputs\n",
        "net_h1 = i1*w1 + i2*w2 + b1\n",
        "net_h2 = i1*w3 + i2*w4 + b1\n",
        "out_h1 = sigmoid(net_h1)\n",
        "out_h2 = sigmoid(net_h2)\n",
        "\n",
        "# Output neuron o1\n",
        "net_o1 = out_h1*w5 + out_h2*w6 + b2\n",
        "out_o1 = sigmoid(net_o1)\n",
        "\n",
        "# --- Step 2: Separate derivative functions for chain rule ---\n",
        "def dE_douto1(target, out):\n",
        "    \"\"\"∂E/∂out_o1 = -(target - out_o1). update ถ้าสมการ loss เปลี่ยน\"\"\"\n",
        "    return -(target - out)\n",
        "\n",
        "def douto1_dneto1(out):\n",
        "    \"\"\"∂out_o1/∂net_o1 = out_o1 * (1 - out_o1) \"\"\"\n",
        "    return dsigmoid(out)\n",
        "\n",
        "def dneto1_dw6(out_h):\n",
        "    \"\"\"ขึ้นกับ net_o1 สมการ\n",
        "    ในตัวอย่าง w5 not_o1 = w5*out_h1 + w6*out_h2 + b_2*1 เลยเหลือแค่ out_h1 ถ้า diff\n",
        "    ∂net_o1/∂w5 = out_h1\" ∂net_o1/∂w6 = out_h2\"\"\"\n",
        "    return out_h\n",
        "\n",
        "# --- Step 3: Combine using chain rule --- แก้ตัวแปรที่จะใส่เข้าไปขึ้นอยู่กับกำลัง update อะไร\n",
        "part1 = dE_douto1(t1, out_o1)\n",
        "part2 = douto1_dneto1(out_o1)\n",
        "part3 = dneto1_dw6(out_h1)\n",
        "\n",
        "dE_dw6 = part1 * part2 * part3\n",
        "\n",
        "# --- Display each part ---\n",
        "print(\"Backward pass for w5 (h1 -> o1):\")\n",
        "print(f\"∂E/∂out_o1 = {part1:.8f}\")\n",
        "print(f\"∂out_o1/∂net_o1 = {part2:.8f}\")\n",
        "print(f\"∂net_o1/∂w6 = {part3:.8f}\")\n",
        "print(f\"Final gradient ∂E/∂w6 = {dE_dw6:.8f}\")"
      ]
    },
    {
      "cell_type": "code",
      "metadata": {
        "colab": {
          "base_uri": "https://localhost:8080/"
        },
        "id": "289e0330",
        "outputId": "f2c99633-ebe5-485d-d578-6e666d509122"
      },
      "source": [
        "import math\n",
        "\n",
        "def conv_out_1d(n_in, k, s=1, p=0):\n",
        "    \"\"\"1-D output size (no dilation).\"\"\"\n",
        "    return math.floor((n_in + 2*p - k) / s) + 1\n",
        "\n",
        "def conv2d_out(h_in, w_in, k, s=1, p=0, n_filters=1):\n",
        "    \"\"\"2-D output size (height, width, channels).\"\"\"\n",
        "    h_out = conv_out_1d(h_in, k, s, p)\n",
        "    w_out = conv_out_1d(w_in, k, s, p)\n",
        "    return h_out, w_out, n_filters\n",
        "\n",
        "\n",
        "h1, w1, c1 = conv2d_out(32, 32, k=5, s=1, p=1, n_filters=10)\n",
        "print(\"Case 1 ->\", f\"Output: {h1} x {w1} x {c1}\")  # Expect 30 x 30 x 10\n",
        "\n",
        "\n",
        "h2, w2, c2 = conv2d_out(32, 32, k=7, s=2, p=2, n_filters=5)\n",
        "print(\"Case 2 ->\", f\"Output: {h2} x {w2} x {c2}\")  # Expect 15 x 15 x 5\n"
      ],
      "execution_count": null,
      "outputs": [
        {
          "output_type": "stream",
          "name": "stdout",
          "text": [
            "Case 1 -> Output: 30 x 30 x 10\n",
            "Case 2 -> Output: 15 x 15 x 5\n"
          ]
        }
      ]
    }
  ]
}