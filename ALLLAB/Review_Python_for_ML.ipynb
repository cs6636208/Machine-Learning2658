{
 "cells": [
  {
   "cell_type": "code",
   "execution_count": 1,
   "id": "c27a5fbc",
   "metadata": {},
   "outputs": [
    {
     "name": "stdout",
     "output_type": "stream",
     "text": [
      "[1 2 3 4 5]\n",
      "[[1 2 3]\n",
      " [4 5 6]]\n",
      "(5,)\n",
      "(2, 3)\n"
     ]
    }
   ],
   "source": [
    "import numpy as np\n",
    "\n",
    "arr = np.array([1, 2, 3, 4, 5])\n",
    "print(arr)\n",
    "\n",
    "arr_2d = np.array([[1, 2, 3], [4, 5, 6]])\n",
    "print(arr_2d)\n",
    "\n",
    "print(arr.shape)\n",
    "print(arr_2d.shape)"
   ]
  },
  {
   "cell_type": "code",
   "execution_count": 7,
   "id": "912b48e1",
   "metadata": {},
   "outputs": [
    {
     "name": "stdout",
     "output_type": "stream",
     "text": [
      "3\n",
      "6\n",
      "[2 3 4]\n",
      "[2 5]\n"
     ]
    }
   ],
   "source": [
    "print(arr[2])\n",
    "print(arr_2d[1, 2])\n",
    "print(arr[1:4])\n",
    "print(arr_2d[:,1])"
   ]
  },
  {
   "cell_type": "code",
   "execution_count": 9,
   "id": "4265f4d9",
   "metadata": {},
   "outputs": [
    {
     "name": "stdout",
     "output_type": "stream",
     "text": [
      "[[1 2 3 4 5 6]]\n"
     ]
    }
   ],
   "source": [
    "arr_2d = np.array([[1, 2, 3], [4, 5, 6]])\n",
    "arr_2d = np.reshape(arr_2d,(1, 6))\n",
    "\n",
    "print(arr_2d)"
   ]
  },
  {
   "cell_type": "code",
   "execution_count": 2,
   "id": "352f4a10",
   "metadata": {},
   "outputs": [
    {
     "name": "stdout",
     "output_type": "stream",
     "text": [
      "[ 7  9 11 13 15]\n",
      "[ 2  4  6  8 10]\n",
      "[-5 -5 -5 -5 -5]\n"
     ]
    }
   ],
   "source": [
    "arr = np.array([1,2,3,4,5])\n",
    "arr2 = np.array([6,7,8,9,10])\n",
    "\n",
    "print(arr + arr2)\n",
    "print(arr * 2)\n",
    "print(arr - arr2)"
   ]
  },
  {
   "cell_type": "code",
   "execution_count": 11,
   "id": "5e478bd1",
   "metadata": {},
   "outputs": [
    {
     "name": "stdout",
     "output_type": "stream",
     "text": [
      "3.5\n",
      "14\n",
      "2.0615528128088303\n",
      "1\n",
      "6\n",
      "[1 2 5 6]\n"
     ]
    }
   ],
   "source": [
    "arr = np.array([2,1,5,6])\n",
    "\n",
    "print(np.mean(arr))\n",
    "print(np.sum(arr))\n",
    "print(np.std(arr))\n",
    "print(np.min(arr))\n",
    "print(np.max(arr))\n",
    "print(np.sort(arr))"
   ]
  },
  {
   "cell_type": "code",
   "execution_count": 14,
   "id": "ef3f90c3",
   "metadata": {},
   "outputs": [
    {
     "name": "stdout",
     "output_type": "stream",
     "text": [
      "[6 7 8]\n"
     ]
    }
   ],
   "source": [
    "arr = np.array([1,2,3]) # 5 + 1 => 6, 5 + 2 => 7, 5 + 3 => 8\n",
    "result = arr + 5\n",
    "print(result)"
   ]
  },
  {
   "cell_type": "code",
   "execution_count": 15,
   "id": "9f1bc38e",
   "metadata": {},
   "outputs": [
    {
     "name": "stdout",
     "output_type": "stream",
     "text": [
      "[[ 2  4  6]\n",
      " [ 5  7  9]\n",
      " [ 8 10 12]]\n"
     ]
    }
   ],
   "source": [
    "arr_2d = np.array([[1,2,3],[4,5,6],[7,8,9]])\n",
    "arr_1d = np.array([1,2,3])\n",
    "result = arr_2d + arr_1d\n",
    "print(result)"
   ]
  },
  {
   "cell_type": "code",
   "execution_count": 16,
   "id": "57ae2997",
   "metadata": {},
   "outputs": [
    {
     "name": "stdout",
     "output_type": "stream",
     "text": [
      "    OrderID     Product    Category  Quantity  Price   OrderDate   Region\n",
      "0      1001      Tablet          IT         1   7000  2024-02-07     East\n",
      "1      1002     Printer          IT         1   6000  2024-02-23  Central\n",
      "2      1003    Keyboard          IT         4    500  2024-02-04  Central\n",
      "3      1004  Whiteboard   Furniture         6   1800  2024-01-28    South\n",
      "4      1005      Tablet          IT         4   7000  2024-01-15     East\n",
      "..      ...         ...         ...       ...    ...         ...      ...\n",
      "95     1096  Whiteboard   Furniture        10   1800  2024-02-18    South\n",
      "96     1097       Chair   Furniture         5   2000  2024-02-14     East\n",
      "97     1098    Keyboard          IT         1    500  2024-02-01  Central\n",
      "98     1099         Pen  Stationery         2     10  2024-01-06     East\n",
      "99     1100    Notebook  Stationery        10     30  2024-02-25    North\n",
      "\n",
      "[100 rows x 7 columns]\n"
     ]
    }
   ],
   "source": [
    "import pandas as pd\n",
    "\n",
    "df = pd.read_csv(\"sales_data_100.csv\")\n",
    "print(df)"
   ]
  },
  {
   "cell_type": "code",
   "execution_count": 17,
   "id": "b113f23b",
   "metadata": {},
   "outputs": [
    {
     "name": "stdout",
     "output_type": "stream",
     "text": [
      "   OrderID     Product   Category  Quantity  Price   OrderDate   Region\n",
      "0     1001      Tablet         IT         1   7000  2024-02-07     East\n",
      "1     1002     Printer         IT         1   6000  2024-02-23  Central\n",
      "2     1003    Keyboard         IT         4    500  2024-02-04  Central\n",
      "3     1004  Whiteboard  Furniture         6   1800  2024-01-28    South\n",
      "4     1005      Tablet         IT         4   7000  2024-01-15     East\n"
     ]
    }
   ],
   "source": [
    "print(df.head())"
   ]
  },
  {
   "cell_type": "code",
   "execution_count": 18,
   "id": "fe0f083e",
   "metadata": {},
   "outputs": [
    {
     "name": "stdout",
     "output_type": "stream",
     "text": [
      "<class 'pandas.core.frame.DataFrame'>\n",
      "RangeIndex: 100 entries, 0 to 99\n",
      "Data columns (total 7 columns):\n",
      " #   Column     Non-Null Count  Dtype \n",
      "---  ------     --------------  ----- \n",
      " 0   OrderID    100 non-null    int64 \n",
      " 1   Product    100 non-null    object\n",
      " 2   Category   100 non-null    object\n",
      " 3   Quantity   100 non-null    int64 \n",
      " 4   Price      100 non-null    int64 \n",
      " 5   OrderDate  100 non-null    object\n",
      " 6   Region     100 non-null    object\n",
      "dtypes: int64(3), object(4)\n",
      "memory usage: 5.6+ KB\n",
      "None\n"
     ]
    }
   ],
   "source": [
    "print(df.info())"
   ]
  },
  {
   "cell_type": "code",
   "execution_count": 19,
   "id": "e0ebc5b9",
   "metadata": {},
   "outputs": [
    {
     "name": "stdout",
     "output_type": "stream",
     "text": [
      "           OrderID    Quantity         Price\n",
      "count   100.000000  100.000000    100.000000\n",
      "mean   1050.500000    5.610000   3196.600000\n",
      "std      29.011492    3.051395   4640.938128\n",
      "min    1001.000000    1.000000      3.000000\n",
      "25%    1025.750000    3.000000     30.000000\n",
      "50%    1050.500000    5.000000   2000.000000\n",
      "75%    1075.250000    8.250000   6000.000000\n",
      "max    1100.000000   10.000000  25000.000000\n"
     ]
    }
   ],
   "source": [
    "print(df.describe())"
   ]
  },
  {
   "cell_type": "code",
   "execution_count": 20,
   "id": "f7ce91d4",
   "metadata": {},
   "outputs": [
    {
     "name": "stdout",
     "output_type": "stream",
     "text": [
      "0             IT\n",
      "1             IT\n",
      "2             IT\n",
      "3      Furniture\n",
      "4             IT\n",
      "         ...    \n",
      "95     Furniture\n",
      "96     Furniture\n",
      "97            IT\n",
      "98    Stationery\n",
      "99    Stationery\n",
      "Name: Category, Length: 100, dtype: object\n"
     ]
    }
   ],
   "source": [
    "print(df['Category'])"
   ]
  },
  {
   "cell_type": "code",
   "execution_count": 21,
   "id": "e71092f8",
   "metadata": {},
   "outputs": [
    {
     "name": "stdout",
     "output_type": "stream",
     "text": [
      "       Product  Price\n",
      "0       Tablet   7000\n",
      "1      Printer   6000\n",
      "2     Keyboard    500\n",
      "3   Whiteboard   1800\n",
      "4       Tablet   7000\n",
      "..         ...    ...\n",
      "95  Whiteboard   1800\n",
      "96       Chair   2000\n",
      "97    Keyboard    500\n",
      "98         Pen     10\n",
      "99    Notebook     30\n",
      "\n",
      "[100 rows x 2 columns]\n"
     ]
    }
   ],
   "source": [
    "print(df[['Product', 'Price']])"
   ]
  },
  {
   "cell_type": "code",
   "execution_count": 22,
   "id": "0dca0558",
   "metadata": {},
   "outputs": [
    {
     "data": {
      "text/plain": [
       "OrderID            1003\n",
       "Product        Keyboard\n",
       "Category             IT\n",
       "Quantity              4\n",
       "Price               500\n",
       "OrderDate    2024-02-04\n",
       "Region          Central\n",
       "Name: 2, dtype: object"
      ]
     },
     "execution_count": 22,
     "metadata": {},
     "output_type": "execute_result"
    }
   ],
   "source": [
    "df.iloc[2]"
   ]
  },
  {
   "cell_type": "code",
   "execution_count": 23,
   "id": "05fb73bc",
   "metadata": {},
   "outputs": [
    {
     "data": {
      "text/html": [
       "<div>\n",
       "<style scoped>\n",
       "    .dataframe tbody tr th:only-of-type {\n",
       "        vertical-align: middle;\n",
       "    }\n",
       "\n",
       "    .dataframe tbody tr th {\n",
       "        vertical-align: top;\n",
       "    }\n",
       "\n",
       "    .dataframe thead th {\n",
       "        text-align: right;\n",
       "    }\n",
       "</style>\n",
       "<table border=\"1\" class=\"dataframe\">\n",
       "  <thead>\n",
       "    <tr style=\"text-align: right;\">\n",
       "      <th></th>\n",
       "      <th>OrderID</th>\n",
       "      <th>Product</th>\n",
       "      <th>Category</th>\n",
       "      <th>Quantity</th>\n",
       "      <th>Price</th>\n",
       "      <th>OrderDate</th>\n",
       "      <th>Region</th>\n",
       "    </tr>\n",
       "  </thead>\n",
       "  <tbody>\n",
       "    <tr>\n",
       "      <th>2</th>\n",
       "      <td>1003</td>\n",
       "      <td>Keyboard</td>\n",
       "      <td>IT</td>\n",
       "      <td>4</td>\n",
       "      <td>500</td>\n",
       "      <td>2024-02-04</td>\n",
       "      <td>Central</td>\n",
       "    </tr>\n",
       "    <tr>\n",
       "      <th>3</th>\n",
       "      <td>1004</td>\n",
       "      <td>Whiteboard</td>\n",
       "      <td>Furniture</td>\n",
       "      <td>6</td>\n",
       "      <td>1800</td>\n",
       "      <td>2024-01-28</td>\n",
       "      <td>South</td>\n",
       "    </tr>\n",
       "  </tbody>\n",
       "</table>\n",
       "</div>"
      ],
      "text/plain": [
       "   OrderID     Product   Category  Quantity  Price   OrderDate   Region\n",
       "2     1003    Keyboard         IT         4    500  2024-02-04  Central\n",
       "3     1004  Whiteboard  Furniture         6   1800  2024-01-28    South"
      ]
     },
     "execution_count": 23,
     "metadata": {},
     "output_type": "execute_result"
    }
   ],
   "source": [
    "df.iloc[2:4]"
   ]
  },
  {
   "cell_type": "code",
   "execution_count": 24,
   "id": "415f8389",
   "metadata": {},
   "outputs": [
    {
     "data": {
      "text/html": [
       "<div>\n",
       "<style scoped>\n",
       "    .dataframe tbody tr th:only-of-type {\n",
       "        vertical-align: middle;\n",
       "    }\n",
       "\n",
       "    .dataframe tbody tr th {\n",
       "        vertical-align: top;\n",
       "    }\n",
       "\n",
       "    .dataframe thead th {\n",
       "        text-align: right;\n",
       "    }\n",
       "</style>\n",
       "<table border=\"1\" class=\"dataframe\">\n",
       "  <thead>\n",
       "    <tr style=\"text-align: right;\">\n",
       "      <th></th>\n",
       "      <th>OrderID</th>\n",
       "      <th>Product</th>\n",
       "      <th>Category</th>\n",
       "      <th>Quantity</th>\n",
       "      <th>Price</th>\n",
       "      <th>OrderDate</th>\n",
       "      <th>Region</th>\n",
       "    </tr>\n",
       "  </thead>\n",
       "  <tbody>\n",
       "    <tr>\n",
       "      <th>1</th>\n",
       "      <td>1002</td>\n",
       "      <td>Printer</td>\n",
       "      <td>IT</td>\n",
       "      <td>1</td>\n",
       "      <td>6000</td>\n",
       "      <td>2024-02-23</td>\n",
       "      <td>Central</td>\n",
       "    </tr>\n",
       "    <tr>\n",
       "      <th>2</th>\n",
       "      <td>1003</td>\n",
       "      <td>Keyboard</td>\n",
       "      <td>IT</td>\n",
       "      <td>4</td>\n",
       "      <td>500</td>\n",
       "      <td>2024-02-04</td>\n",
       "      <td>Central</td>\n",
       "    </tr>\n",
       "    <tr>\n",
       "      <th>8</th>\n",
       "      <td>1009</td>\n",
       "      <td>Laptop</td>\n",
       "      <td>IT</td>\n",
       "      <td>2</td>\n",
       "      <td>25000</td>\n",
       "      <td>2024-01-20</td>\n",
       "      <td>Central</td>\n",
       "    </tr>\n",
       "    <tr>\n",
       "      <th>13</th>\n",
       "      <td>1014</td>\n",
       "      <td>Tablet</td>\n",
       "      <td>IT</td>\n",
       "      <td>2</td>\n",
       "      <td>7000</td>\n",
       "      <td>2024-01-26</td>\n",
       "      <td>Central</td>\n",
       "    </tr>\n",
       "    <tr>\n",
       "      <th>21</th>\n",
       "      <td>1022</td>\n",
       "      <td>Pen</td>\n",
       "      <td>Stationery</td>\n",
       "      <td>3</td>\n",
       "      <td>10</td>\n",
       "      <td>2024-01-31</td>\n",
       "      <td>Central</td>\n",
       "    </tr>\n",
       "    <tr>\n",
       "      <th>25</th>\n",
       "      <td>1026</td>\n",
       "      <td>Pen</td>\n",
       "      <td>Stationery</td>\n",
       "      <td>8</td>\n",
       "      <td>10</td>\n",
       "      <td>2024-01-01</td>\n",
       "      <td>Central</td>\n",
       "    </tr>\n",
       "    <tr>\n",
       "      <th>27</th>\n",
       "      <td>1028</td>\n",
       "      <td>Notebook</td>\n",
       "      <td>Stationery</td>\n",
       "      <td>9</td>\n",
       "      <td>30</td>\n",
       "      <td>2024-01-26</td>\n",
       "      <td>Central</td>\n",
       "    </tr>\n",
       "    <tr>\n",
       "      <th>28</th>\n",
       "      <td>1029</td>\n",
       "      <td>Chair</td>\n",
       "      <td>Furniture</td>\n",
       "      <td>6</td>\n",
       "      <td>2000</td>\n",
       "      <td>2024-01-15</td>\n",
       "      <td>Central</td>\n",
       "    </tr>\n",
       "    <tr>\n",
       "      <th>33</th>\n",
       "      <td>1034</td>\n",
       "      <td>Whiteboard</td>\n",
       "      <td>Furniture</td>\n",
       "      <td>10</td>\n",
       "      <td>1800</td>\n",
       "      <td>2024-01-22</td>\n",
       "      <td>Central</td>\n",
       "    </tr>\n",
       "    <tr>\n",
       "      <th>34</th>\n",
       "      <td>1035</td>\n",
       "      <td>Tablet</td>\n",
       "      <td>IT</td>\n",
       "      <td>2</td>\n",
       "      <td>7000</td>\n",
       "      <td>2024-01-27</td>\n",
       "      <td>Central</td>\n",
       "    </tr>\n",
       "    <tr>\n",
       "      <th>37</th>\n",
       "      <td>1038</td>\n",
       "      <td>Mouse</td>\n",
       "      <td>IT</td>\n",
       "      <td>4</td>\n",
       "      <td>150</td>\n",
       "      <td>2024-01-22</td>\n",
       "      <td>Central</td>\n",
       "    </tr>\n",
       "    <tr>\n",
       "      <th>41</th>\n",
       "      <td>1042</td>\n",
       "      <td>Tablet</td>\n",
       "      <td>IT</td>\n",
       "      <td>4</td>\n",
       "      <td>7000</td>\n",
       "      <td>2024-01-02</td>\n",
       "      <td>Central</td>\n",
       "    </tr>\n",
       "    <tr>\n",
       "      <th>48</th>\n",
       "      <td>1049</td>\n",
       "      <td>Desk</td>\n",
       "      <td>Furniture</td>\n",
       "      <td>2</td>\n",
       "      <td>3000</td>\n",
       "      <td>2024-02-02</td>\n",
       "      <td>Central</td>\n",
       "    </tr>\n",
       "    <tr>\n",
       "      <th>49</th>\n",
       "      <td>1050</td>\n",
       "      <td>Desk</td>\n",
       "      <td>Furniture</td>\n",
       "      <td>5</td>\n",
       "      <td>3000</td>\n",
       "      <td>2024-01-11</td>\n",
       "      <td>Central</td>\n",
       "    </tr>\n",
       "    <tr>\n",
       "      <th>57</th>\n",
       "      <td>1058</td>\n",
       "      <td>Mouse</td>\n",
       "      <td>IT</td>\n",
       "      <td>3</td>\n",
       "      <td>150</td>\n",
       "      <td>2024-01-25</td>\n",
       "      <td>Central</td>\n",
       "    </tr>\n",
       "    <tr>\n",
       "      <th>59</th>\n",
       "      <td>1060</td>\n",
       "      <td>Pencil</td>\n",
       "      <td>Stationery</td>\n",
       "      <td>9</td>\n",
       "      <td>5</td>\n",
       "      <td>2024-02-17</td>\n",
       "      <td>Central</td>\n",
       "    </tr>\n",
       "    <tr>\n",
       "      <th>64</th>\n",
       "      <td>1065</td>\n",
       "      <td>Chair</td>\n",
       "      <td>Furniture</td>\n",
       "      <td>8</td>\n",
       "      <td>2000</td>\n",
       "      <td>2024-02-20</td>\n",
       "      <td>Central</td>\n",
       "    </tr>\n",
       "    <tr>\n",
       "      <th>68</th>\n",
       "      <td>1069</td>\n",
       "      <td>Desk</td>\n",
       "      <td>Furniture</td>\n",
       "      <td>10</td>\n",
       "      <td>3000</td>\n",
       "      <td>2024-01-03</td>\n",
       "      <td>Central</td>\n",
       "    </tr>\n",
       "    <tr>\n",
       "      <th>71</th>\n",
       "      <td>1072</td>\n",
       "      <td>Tablet</td>\n",
       "      <td>IT</td>\n",
       "      <td>9</td>\n",
       "      <td>7000</td>\n",
       "      <td>2024-01-23</td>\n",
       "      <td>Central</td>\n",
       "    </tr>\n",
       "    <tr>\n",
       "      <th>77</th>\n",
       "      <td>1078</td>\n",
       "      <td>Pencil</td>\n",
       "      <td>Stationery</td>\n",
       "      <td>10</td>\n",
       "      <td>5</td>\n",
       "      <td>2024-01-21</td>\n",
       "      <td>Central</td>\n",
       "    </tr>\n",
       "    <tr>\n",
       "      <th>93</th>\n",
       "      <td>1094</td>\n",
       "      <td>Mouse</td>\n",
       "      <td>IT</td>\n",
       "      <td>2</td>\n",
       "      <td>150</td>\n",
       "      <td>2024-02-08</td>\n",
       "      <td>Central</td>\n",
       "    </tr>\n",
       "    <tr>\n",
       "      <th>97</th>\n",
       "      <td>1098</td>\n",
       "      <td>Keyboard</td>\n",
       "      <td>IT</td>\n",
       "      <td>1</td>\n",
       "      <td>500</td>\n",
       "      <td>2024-02-01</td>\n",
       "      <td>Central</td>\n",
       "    </tr>\n",
       "  </tbody>\n",
       "</table>\n",
       "</div>"
      ],
      "text/plain": [
       "    OrderID     Product    Category  Quantity  Price   OrderDate   Region\n",
       "1      1002     Printer          IT         1   6000  2024-02-23  Central\n",
       "2      1003    Keyboard          IT         4    500  2024-02-04  Central\n",
       "8      1009      Laptop          IT         2  25000  2024-01-20  Central\n",
       "13     1014      Tablet          IT         2   7000  2024-01-26  Central\n",
       "21     1022         Pen  Stationery         3     10  2024-01-31  Central\n",
       "25     1026         Pen  Stationery         8     10  2024-01-01  Central\n",
       "27     1028    Notebook  Stationery         9     30  2024-01-26  Central\n",
       "28     1029       Chair   Furniture         6   2000  2024-01-15  Central\n",
       "33     1034  Whiteboard   Furniture        10   1800  2024-01-22  Central\n",
       "34     1035      Tablet          IT         2   7000  2024-01-27  Central\n",
       "37     1038       Mouse          IT         4    150  2024-01-22  Central\n",
       "41     1042      Tablet          IT         4   7000  2024-01-02  Central\n",
       "48     1049        Desk   Furniture         2   3000  2024-02-02  Central\n",
       "49     1050        Desk   Furniture         5   3000  2024-01-11  Central\n",
       "57     1058       Mouse          IT         3    150  2024-01-25  Central\n",
       "59     1060      Pencil  Stationery         9      5  2024-02-17  Central\n",
       "64     1065       Chair   Furniture         8   2000  2024-02-20  Central\n",
       "68     1069        Desk   Furniture        10   3000  2024-01-03  Central\n",
       "71     1072      Tablet          IT         9   7000  2024-01-23  Central\n",
       "77     1078      Pencil  Stationery        10      5  2024-01-21  Central\n",
       "93     1094       Mouse          IT         2    150  2024-02-08  Central\n",
       "97     1098    Keyboard          IT         1    500  2024-02-01  Central"
      ]
     },
     "execution_count": 24,
     "metadata": {},
     "output_type": "execute_result"
    }
   ],
   "source": [
    "df.loc[df['Region'] == 'Central']"
   ]
  },
  {
   "cell_type": "code",
   "execution_count": 26,
   "id": "b3683637",
   "metadata": {},
   "outputs": [
    {
     "data": {
      "text/html": [
       "<div>\n",
       "<style scoped>\n",
       "    .dataframe tbody tr th:only-of-type {\n",
       "        vertical-align: middle;\n",
       "    }\n",
       "\n",
       "    .dataframe tbody tr th {\n",
       "        vertical-align: top;\n",
       "    }\n",
       "\n",
       "    .dataframe thead th {\n",
       "        text-align: right;\n",
       "    }\n",
       "</style>\n",
       "<table border=\"1\" class=\"dataframe\">\n",
       "  <thead>\n",
       "    <tr style=\"text-align: right;\">\n",
       "      <th></th>\n",
       "      <th>OrderID</th>\n",
       "      <th>Product</th>\n",
       "      <th>Category</th>\n",
       "      <th>Quantity</th>\n",
       "      <th>Price</th>\n",
       "      <th>OrderDate</th>\n",
       "      <th>Region</th>\n",
       "    </tr>\n",
       "  </thead>\n",
       "  <tbody>\n",
       "  </tbody>\n",
       "</table>\n",
       "</div>"
      ],
      "text/plain": [
       "Empty DataFrame\n",
       "Columns: [OrderID, Product, Category, Quantity, Price, OrderDate, Region]\n",
       "Index: []"
      ]
     },
     "execution_count": 26,
     "metadata": {},
     "output_type": "execute_result"
    }
   ],
   "source": [
    "df.loc[(df['Category'] == 'IT') & (df['Quantity'] > 100)]"
   ]
  }
 ],
 "metadata": {
  "kernelspec": {
   "display_name": "Python 3",
   "language": "python",
   "name": "python3"
  },
  "language_info": {
   "codemirror_mode": {
    "name": "ipython",
    "version": 3
   },
   "file_extension": ".py",
   "mimetype": "text/x-python",
   "name": "python",
   "nbconvert_exporter": "python",
   "pygments_lexer": "ipython3",
   "version": "3.11.9"
  }
 },
 "nbformat": 4,
 "nbformat_minor": 5
}
