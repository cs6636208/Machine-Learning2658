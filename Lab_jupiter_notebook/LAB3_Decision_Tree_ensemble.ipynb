{
  "cells": [
    {
      "cell_type": "markdown",
      "metadata": {
        "id": "SSJwTIUaVoaR"
      },
      "source": [
        "## LAB 3 tree-based classification \n",
        "\n",
        "### Adult-Income Dataset\n",
        "[source] https://raw.githubusercontent.com/saravrajavelu/Adult-Income-Analysis/master/adult.csv :\n",
        "Predict whether income exceeds $50K/yr based on census data\n",
        "\n",
        "**Attribute information**\n",
        "1.   age: continuous.\n",
        "2.   workclass: Private, Self-emp-not-inc, Self-emp-inc, Federal-gov, Local-gov, State-gov, Without-pay, Never-worked.List item\n",
        "3.  fnlwgt: continuous.\n",
        "4.  education: Bachelors, Some-college, 11th, HS-grad, Prof-school, Assoc-acdm, Assoc-voc, 9th, 7th-8th, 12th, Masters, 1st-4th, 10th, Doctorate, 5th-6th, Preschool.\n",
        "5.  education-num: continuous.\n",
        "6.  marital-status: Married-civ-spouse, Divorced, Never-married, Separated, Widowed, Married-spouse-absent, Married-AF-spouse.\n",
        "7.  occupation: Tech-support, Craft-repair, Other-service, Sales, Exec-managerial, Prof-specialty, Handlers-cleaners, Machine-op-inspct, Adm-clerical, Farming-fishing, Transport-moving, Priv-house-serv, Protective-serv, Armed-Forces.\n",
        "8. relationship: Wife, Own-child, Husband, Not-in-family, Other-relative, Unmarried.\n",
        "9. race: White, Asian-Pac-Islander, Amer-Indian-Eskimo, Other, Black.\n",
        "10. sex: Female, Male.\n",
        "11. capital-gain: continuous.\n",
        "12. capital-loss: continuous.\n",
        "13. hours-per-week: continuous.\n",
        "14. native-country: United-States, Cambodia, England, Puerto-Rico, Canada, Germany, Outlying-US(Guam-USVI-etc), India, Japan, Greece, South, China, Cuba, Iran, Honduras, Philippines, Italy, Poland, Jamaica, Vietnam, Mexico, Portugal, Ireland, France, Dominican-Republic, Laos, Ecuador, Taiwan, Haiti, Columbia, Hungary, Guatemala, Nicaragua, Scotland, Thailand, Yugoslavia, El-Salvador, Trinadad&Tobago, Peru, Hong, Holand-Netherlands.\n",
        "\n",
        "**The outcome (Label)**\n",
        "15. Income: >50K, <=50K"
      ]
    },
    {
      "cell_type": "markdown",
      "metadata": {
        "id": "pgoXkDEA5UNG"
      },
      "source": [
        "## อ่านชุดข้อมูล Adult Income"
      ]
    },
    {
      "cell_type": "code",
      "execution_count": 694,
      "metadata": {
        "colab": {
          "base_uri": "https://localhost:8080/",
          "height": 424
        },
        "id": "lnaNtOu6Y6ex",
        "outputId": "e50c34e8-abf6-4181-d4a5-4c54bc2e8e04"
      },
      "outputs": [
        {
          "data": {
            "text/html": [
              "<div>\n",
              "<style scoped>\n",
              "    .dataframe tbody tr th:only-of-type {\n",
              "        vertical-align: middle;\n",
              "    }\n",
              "\n",
              "    .dataframe tbody tr th {\n",
              "        vertical-align: top;\n",
              "    }\n",
              "\n",
              "    .dataframe thead th {\n",
              "        text-align: right;\n",
              "    }\n",
              "</style>\n",
              "<table border=\"1\" class=\"dataframe\">\n",
              "  <thead>\n",
              "    <tr style=\"text-align: right;\">\n",
              "      <th></th>\n",
              "      <th>age</th>\n",
              "      <th>workclass</th>\n",
              "      <th>fnlwgt</th>\n",
              "      <th>education</th>\n",
              "      <th>educational-num</th>\n",
              "      <th>marital-status</th>\n",
              "      <th>occupation</th>\n",
              "      <th>relationship</th>\n",
              "      <th>race</th>\n",
              "      <th>gender</th>\n",
              "      <th>capital-gain</th>\n",
              "      <th>capital-loss</th>\n",
              "      <th>hours-per-week</th>\n",
              "      <th>native-country</th>\n",
              "      <th>income</th>\n",
              "    </tr>\n",
              "  </thead>\n",
              "  <tbody>\n",
              "    <tr>\n",
              "      <th>0</th>\n",
              "      <td>25</td>\n",
              "      <td>Private</td>\n",
              "      <td>226802</td>\n",
              "      <td>11th</td>\n",
              "      <td>7</td>\n",
              "      <td>Never-married</td>\n",
              "      <td>Machine-op-inspct</td>\n",
              "      <td>Own-child</td>\n",
              "      <td>Black</td>\n",
              "      <td>Male</td>\n",
              "      <td>0</td>\n",
              "      <td>0</td>\n",
              "      <td>40</td>\n",
              "      <td>United-States</td>\n",
              "      <td>&lt;=50K</td>\n",
              "    </tr>\n",
              "    <tr>\n",
              "      <th>1</th>\n",
              "      <td>38</td>\n",
              "      <td>Private</td>\n",
              "      <td>89814</td>\n",
              "      <td>HS-grad</td>\n",
              "      <td>9</td>\n",
              "      <td>Married-civ-spouse</td>\n",
              "      <td>Farming-fishing</td>\n",
              "      <td>Husband</td>\n",
              "      <td>White</td>\n",
              "      <td>Male</td>\n",
              "      <td>0</td>\n",
              "      <td>0</td>\n",
              "      <td>50</td>\n",
              "      <td>United-States</td>\n",
              "      <td>&lt;=50K</td>\n",
              "    </tr>\n",
              "    <tr>\n",
              "      <th>2</th>\n",
              "      <td>28</td>\n",
              "      <td>Local-gov</td>\n",
              "      <td>336951</td>\n",
              "      <td>Assoc-acdm</td>\n",
              "      <td>12</td>\n",
              "      <td>Married-civ-spouse</td>\n",
              "      <td>Protective-serv</td>\n",
              "      <td>Husband</td>\n",
              "      <td>White</td>\n",
              "      <td>Male</td>\n",
              "      <td>0</td>\n",
              "      <td>0</td>\n",
              "      <td>40</td>\n",
              "      <td>United-States</td>\n",
              "      <td>&gt;50K</td>\n",
              "    </tr>\n",
              "    <tr>\n",
              "      <th>3</th>\n",
              "      <td>44</td>\n",
              "      <td>Private</td>\n",
              "      <td>160323</td>\n",
              "      <td>Some-college</td>\n",
              "      <td>10</td>\n",
              "      <td>Married-civ-spouse</td>\n",
              "      <td>Machine-op-inspct</td>\n",
              "      <td>Husband</td>\n",
              "      <td>Black</td>\n",
              "      <td>Male</td>\n",
              "      <td>7688</td>\n",
              "      <td>0</td>\n",
              "      <td>40</td>\n",
              "      <td>United-States</td>\n",
              "      <td>&gt;50K</td>\n",
              "    </tr>\n",
              "    <tr>\n",
              "      <th>4</th>\n",
              "      <td>18</td>\n",
              "      <td>?</td>\n",
              "      <td>103497</td>\n",
              "      <td>Some-college</td>\n",
              "      <td>10</td>\n",
              "      <td>Never-married</td>\n",
              "      <td>?</td>\n",
              "      <td>Own-child</td>\n",
              "      <td>White</td>\n",
              "      <td>Female</td>\n",
              "      <td>0</td>\n",
              "      <td>0</td>\n",
              "      <td>30</td>\n",
              "      <td>United-States</td>\n",
              "      <td>&lt;=50K</td>\n",
              "    </tr>\n",
              "    <tr>\n",
              "      <th>...</th>\n",
              "      <td>...</td>\n",
              "      <td>...</td>\n",
              "      <td>...</td>\n",
              "      <td>...</td>\n",
              "      <td>...</td>\n",
              "      <td>...</td>\n",
              "      <td>...</td>\n",
              "      <td>...</td>\n",
              "      <td>...</td>\n",
              "      <td>...</td>\n",
              "      <td>...</td>\n",
              "      <td>...</td>\n",
              "      <td>...</td>\n",
              "      <td>...</td>\n",
              "      <td>...</td>\n",
              "    </tr>\n",
              "    <tr>\n",
              "      <th>33958</th>\n",
              "      <td>37</td>\n",
              "      <td>Private</td>\n",
              "      <td>126675</td>\n",
              "      <td>Some-college</td>\n",
              "      <td>10</td>\n",
              "      <td>Married-civ-spouse</td>\n",
              "      <td>Exec-managerial</td>\n",
              "      <td>Husband</td>\n",
              "      <td>White</td>\n",
              "      <td>Male</td>\n",
              "      <td>0</td>\n",
              "      <td>0</td>\n",
              "      <td>57</td>\n",
              "      <td>United-States</td>\n",
              "      <td>&lt;=50K</td>\n",
              "    </tr>\n",
              "    <tr>\n",
              "      <th>33959</th>\n",
              "      <td>46</td>\n",
              "      <td>Local-gov</td>\n",
              "      <td>175754</td>\n",
              "      <td>Masters</td>\n",
              "      <td>14</td>\n",
              "      <td>Divorced</td>\n",
              "      <td>Prof-specialty</td>\n",
              "      <td>Not-in-family</td>\n",
              "      <td>White</td>\n",
              "      <td>Female</td>\n",
              "      <td>0</td>\n",
              "      <td>1876</td>\n",
              "      <td>60</td>\n",
              "      <td>United-States</td>\n",
              "      <td>&lt;=50K</td>\n",
              "    </tr>\n",
              "    <tr>\n",
              "      <th>33960</th>\n",
              "      <td>31</td>\n",
              "      <td>Private</td>\n",
              "      <td>121768</td>\n",
              "      <td>Assoc-acdm</td>\n",
              "      <td>12</td>\n",
              "      <td>Divorced</td>\n",
              "      <td>Adm-clerical</td>\n",
              "      <td>Unmarried</td>\n",
              "      <td>White</td>\n",
              "      <td>Female</td>\n",
              "      <td>0</td>\n",
              "      <td>0</td>\n",
              "      <td>35</td>\n",
              "      <td>Poland</td>\n",
              "      <td>&lt;=50K</td>\n",
              "    </tr>\n",
              "    <tr>\n",
              "      <th>33961</th>\n",
              "      <td>23</td>\n",
              "      <td>Private</td>\n",
              "      <td>180052</td>\n",
              "      <td>HS-grad</td>\n",
              "      <td>9</td>\n",
              "      <td>Never-married</td>\n",
              "      <td>Other-service</td>\n",
              "      <td>Own-child</td>\n",
              "      <td>White</td>\n",
              "      <td>Male</td>\n",
              "      <td>0</td>\n",
              "      <td>0</td>\n",
              "      <td>40</td>\n",
              "      <td>United-States</td>\n",
              "      <td>&lt;=50K</td>\n",
              "    </tr>\n",
              "    <tr>\n",
              "      <th>33962</th>\n",
              "      <td>22</td>\n",
              "      <td>Private</td>\n",
              "      <td>124454</td>\n",
              "      <td>Some-college</td>\n",
              "      <td>10</td>\n",
              "      <td>Never-married</td>\n",
              "      <td>Sales</td>\n",
              "      <td>Not-in-family</td>\n",
              "      <td>White</td>\n",
              "      <td>Male</td>\n",
              "      <td>0</td>\n",
              "      <td>0</td>\n",
              "      <td>3</td>\n",
              "      <td>NaN</td>\n",
              "      <td>NaN</td>\n",
              "    </tr>\n",
              "  </tbody>\n",
              "</table>\n",
              "<p>33963 rows × 15 columns</p>\n",
              "</div>"
            ],
            "text/plain": [
              "       age  workclass  fnlwgt     education  educational-num  \\\n",
              "0       25    Private  226802          11th                7   \n",
              "1       38    Private   89814       HS-grad                9   \n",
              "2       28  Local-gov  336951    Assoc-acdm               12   \n",
              "3       44    Private  160323  Some-college               10   \n",
              "4       18          ?  103497  Some-college               10   \n",
              "...    ...        ...     ...           ...              ...   \n",
              "33958   37    Private  126675  Some-college               10   \n",
              "33959   46  Local-gov  175754       Masters               14   \n",
              "33960   31    Private  121768    Assoc-acdm               12   \n",
              "33961   23    Private  180052       HS-grad                9   \n",
              "33962   22    Private  124454  Some-college               10   \n",
              "\n",
              "           marital-status         occupation   relationship   race  gender  \\\n",
              "0           Never-married  Machine-op-inspct      Own-child  Black    Male   \n",
              "1      Married-civ-spouse    Farming-fishing        Husband  White    Male   \n",
              "2      Married-civ-spouse    Protective-serv        Husband  White    Male   \n",
              "3      Married-civ-spouse  Machine-op-inspct        Husband  Black    Male   \n",
              "4           Never-married                  ?      Own-child  White  Female   \n",
              "...                   ...                ...            ...    ...     ...   \n",
              "33958  Married-civ-spouse    Exec-managerial        Husband  White    Male   \n",
              "33959            Divorced     Prof-specialty  Not-in-family  White  Female   \n",
              "33960            Divorced       Adm-clerical      Unmarried  White  Female   \n",
              "33961       Never-married      Other-service      Own-child  White    Male   \n",
              "33962       Never-married              Sales  Not-in-family  White    Male   \n",
              "\n",
              "       capital-gain  capital-loss  hours-per-week native-country income  \n",
              "0                 0             0              40  United-States  <=50K  \n",
              "1                 0             0              50  United-States  <=50K  \n",
              "2                 0             0              40  United-States   >50K  \n",
              "3              7688             0              40  United-States   >50K  \n",
              "4                 0             0              30  United-States  <=50K  \n",
              "...             ...           ...             ...            ...    ...  \n",
              "33958             0             0              57  United-States  <=50K  \n",
              "33959             0          1876              60  United-States  <=50K  \n",
              "33960             0             0              35         Poland  <=50K  \n",
              "33961             0             0              40  United-States  <=50K  \n",
              "33962             0             0               3            NaN    NaN  \n",
              "\n",
              "[33963 rows x 15 columns]"
            ]
          },
          "execution_count": 694,
          "metadata": {},
          "output_type": "execute_result"
        }
      ],
      "source": [
        "import pandas as pd\n",
        "df = pd.read_csv(\"../Dataset/adult_income.csv\")\n",
        "df"
      ]
    },
    {
      "cell_type": "markdown",
      "metadata": {
        "id": "_rKuLhOOFT9c"
      },
      "source": [
        "## ข้อ 1 จงวิเคราะห์ข้อมูลด้วย pandas เพื่อตอบคำถามข้อ 1.1 ถึง 1.6"
      ]
    },
    {
      "cell_type": "code",
      "execution_count": 695,
      "metadata": {},
      "outputs": [
        {
          "data": {
            "text/plain": [
              "income\n",
              "<=50K    25893\n",
              ">50K      8069\n",
              "Name: count, dtype: int64"
            ]
          },
          "execution_count": 695,
          "metadata": {},
          "output_type": "execute_result"
        }
      ],
      "source": [
        "# 1.1\n",
        "samples = df['income'].value_counts()\n",
        "samples"
      ]
    },
    {
      "cell_type": "code",
      "execution_count": 696,
      "metadata": {},
      "outputs": [
        {
          "data": {
            "text/html": [
              "<div>\n",
              "<style scoped>\n",
              "    .dataframe tbody tr th:only-of-type {\n",
              "        vertical-align: middle;\n",
              "    }\n",
              "\n",
              "    .dataframe tbody tr th {\n",
              "        vertical-align: top;\n",
              "    }\n",
              "\n",
              "    .dataframe thead th {\n",
              "        text-align: right;\n",
              "    }\n",
              "</style>\n",
              "<table border=\"1\" class=\"dataframe\">\n",
              "  <thead>\n",
              "    <tr style=\"text-align: right;\">\n",
              "      <th></th>\n",
              "      <th>workclass</th>\n",
              "      <th>education</th>\n",
              "      <th>marital-status</th>\n",
              "      <th>occupation</th>\n",
              "      <th>relationship</th>\n",
              "      <th>race</th>\n",
              "      <th>gender</th>\n",
              "      <th>native-country</th>\n",
              "      <th>income</th>\n",
              "    </tr>\n",
              "  </thead>\n",
              "  <tbody>\n",
              "    <tr>\n",
              "      <th>0</th>\n",
              "      <td>Private</td>\n",
              "      <td>11th</td>\n",
              "      <td>Never-married</td>\n",
              "      <td>Machine-op-inspct</td>\n",
              "      <td>Own-child</td>\n",
              "      <td>Black</td>\n",
              "      <td>Male</td>\n",
              "      <td>United-States</td>\n",
              "      <td>&lt;=50K</td>\n",
              "    </tr>\n",
              "    <tr>\n",
              "      <th>1</th>\n",
              "      <td>Private</td>\n",
              "      <td>HS-grad</td>\n",
              "      <td>Married-civ-spouse</td>\n",
              "      <td>Farming-fishing</td>\n",
              "      <td>Husband</td>\n",
              "      <td>White</td>\n",
              "      <td>Male</td>\n",
              "      <td>United-States</td>\n",
              "      <td>&lt;=50K</td>\n",
              "    </tr>\n",
              "    <tr>\n",
              "      <th>2</th>\n",
              "      <td>Local-gov</td>\n",
              "      <td>Assoc-acdm</td>\n",
              "      <td>Married-civ-spouse</td>\n",
              "      <td>Protective-serv</td>\n",
              "      <td>Husband</td>\n",
              "      <td>White</td>\n",
              "      <td>Male</td>\n",
              "      <td>United-States</td>\n",
              "      <td>&gt;50K</td>\n",
              "    </tr>\n",
              "    <tr>\n",
              "      <th>3</th>\n",
              "      <td>Private</td>\n",
              "      <td>Some-college</td>\n",
              "      <td>Married-civ-spouse</td>\n",
              "      <td>Machine-op-inspct</td>\n",
              "      <td>Husband</td>\n",
              "      <td>Black</td>\n",
              "      <td>Male</td>\n",
              "      <td>United-States</td>\n",
              "      <td>&gt;50K</td>\n",
              "    </tr>\n",
              "    <tr>\n",
              "      <th>4</th>\n",
              "      <td>?</td>\n",
              "      <td>Some-college</td>\n",
              "      <td>Never-married</td>\n",
              "      <td>?</td>\n",
              "      <td>Own-child</td>\n",
              "      <td>White</td>\n",
              "      <td>Female</td>\n",
              "      <td>United-States</td>\n",
              "      <td>&lt;=50K</td>\n",
              "    </tr>\n",
              "    <tr>\n",
              "      <th>...</th>\n",
              "      <td>...</td>\n",
              "      <td>...</td>\n",
              "      <td>...</td>\n",
              "      <td>...</td>\n",
              "      <td>...</td>\n",
              "      <td>...</td>\n",
              "      <td>...</td>\n",
              "      <td>...</td>\n",
              "      <td>...</td>\n",
              "    </tr>\n",
              "    <tr>\n",
              "      <th>33958</th>\n",
              "      <td>Private</td>\n",
              "      <td>Some-college</td>\n",
              "      <td>Married-civ-spouse</td>\n",
              "      <td>Exec-managerial</td>\n",
              "      <td>Husband</td>\n",
              "      <td>White</td>\n",
              "      <td>Male</td>\n",
              "      <td>United-States</td>\n",
              "      <td>&lt;=50K</td>\n",
              "    </tr>\n",
              "    <tr>\n",
              "      <th>33959</th>\n",
              "      <td>Local-gov</td>\n",
              "      <td>Masters</td>\n",
              "      <td>Divorced</td>\n",
              "      <td>Prof-specialty</td>\n",
              "      <td>Not-in-family</td>\n",
              "      <td>White</td>\n",
              "      <td>Female</td>\n",
              "      <td>United-States</td>\n",
              "      <td>&lt;=50K</td>\n",
              "    </tr>\n",
              "    <tr>\n",
              "      <th>33960</th>\n",
              "      <td>Private</td>\n",
              "      <td>Assoc-acdm</td>\n",
              "      <td>Divorced</td>\n",
              "      <td>Adm-clerical</td>\n",
              "      <td>Unmarried</td>\n",
              "      <td>White</td>\n",
              "      <td>Female</td>\n",
              "      <td>Poland</td>\n",
              "      <td>&lt;=50K</td>\n",
              "    </tr>\n",
              "    <tr>\n",
              "      <th>33961</th>\n",
              "      <td>Private</td>\n",
              "      <td>HS-grad</td>\n",
              "      <td>Never-married</td>\n",
              "      <td>Other-service</td>\n",
              "      <td>Own-child</td>\n",
              "      <td>White</td>\n",
              "      <td>Male</td>\n",
              "      <td>United-States</td>\n",
              "      <td>&lt;=50K</td>\n",
              "    </tr>\n",
              "    <tr>\n",
              "      <th>33962</th>\n",
              "      <td>Private</td>\n",
              "      <td>Some-college</td>\n",
              "      <td>Never-married</td>\n",
              "      <td>Sales</td>\n",
              "      <td>Not-in-family</td>\n",
              "      <td>White</td>\n",
              "      <td>Male</td>\n",
              "      <td>NaN</td>\n",
              "      <td>NaN</td>\n",
              "    </tr>\n",
              "  </tbody>\n",
              "</table>\n",
              "<p>33963 rows × 9 columns</p>\n",
              "</div>"
            ],
            "text/plain": [
              "       workclass     education      marital-status         occupation  \\\n",
              "0        Private          11th       Never-married  Machine-op-inspct   \n",
              "1        Private       HS-grad  Married-civ-spouse    Farming-fishing   \n",
              "2      Local-gov    Assoc-acdm  Married-civ-spouse    Protective-serv   \n",
              "3        Private  Some-college  Married-civ-spouse  Machine-op-inspct   \n",
              "4              ?  Some-college       Never-married                  ?   \n",
              "...          ...           ...                 ...                ...   \n",
              "33958    Private  Some-college  Married-civ-spouse    Exec-managerial   \n",
              "33959  Local-gov       Masters            Divorced     Prof-specialty   \n",
              "33960    Private    Assoc-acdm            Divorced       Adm-clerical   \n",
              "33961    Private       HS-grad       Never-married      Other-service   \n",
              "33962    Private  Some-college       Never-married              Sales   \n",
              "\n",
              "        relationship   race  gender native-country income  \n",
              "0          Own-child  Black    Male  United-States  <=50K  \n",
              "1            Husband  White    Male  United-States  <=50K  \n",
              "2            Husband  White    Male  United-States   >50K  \n",
              "3            Husband  Black    Male  United-States   >50K  \n",
              "4          Own-child  White  Female  United-States  <=50K  \n",
              "...              ...    ...     ...            ...    ...  \n",
              "33958        Husband  White    Male  United-States  <=50K  \n",
              "33959  Not-in-family  White  Female  United-States  <=50K  \n",
              "33960      Unmarried  White  Female         Poland  <=50K  \n",
              "33961      Own-child  White    Male  United-States  <=50K  \n",
              "33962  Not-in-family  White    Male            NaN    NaN  \n",
              "\n",
              "[33963 rows x 9 columns]"
            ]
          },
          "execution_count": 696,
          "metadata": {},
          "output_type": "execute_result"
        }
      ],
      "source": [
        "# 1.2\n",
        "\n",
        "categorical_features = df.select_dtypes(include=['object', 'category'])\n",
        "categorical_features"
      ]
    },
    {
      "cell_type": "code",
      "execution_count": 697,
      "metadata": {},
      "outputs": [
        {
          "name": "stdout",
          "output_type": "stream",
          "text": [
            "อายุของพนักงานเฉลี่ย =  38.655566351617935\n"
          ]
        }
      ],
      "source": [
        "# 1.3\n",
        "\n",
        "age = df['age'].mean()\n",
        "print(\"อายุของพนักงานเฉลี่ย = \",age)"
      ]
    },
    {
      "cell_type": "code",
      "execution_count": 698,
      "metadata": {},
      "outputs": [
        {
          "name": "stdout",
          "output_type": "stream",
          "text": [
            "       age marital-status income\n",
            "584     44  Never-married   >50K\n",
            "702     43  Never-married   >50K\n",
            "1448    43  Never-married   >50K\n",
            "2765    47  Never-married   >50K\n",
            "2787    47  Never-married   >50K\n",
            "...    ...            ...    ...\n",
            "32685   51  Never-married   >50K\n",
            "32719   59  Never-married   >50K\n",
            "33145   42  Never-married   >50K\n",
            "33335   60  Never-married   >50K\n",
            "33844   71  Never-married   >50K\n",
            "\n",
            "[114 rows x 3 columns]\n",
            "\n",
            "มีจำนวนพนักงาน =  114\n"
          ]
        }
      ],
      "source": [
        "# 1.4\n",
        "\n",
        "selected_columns = df.loc[\n",
        "    (df['gender'] == \"Male\") &\n",
        "    (df['age'] > 40) &\n",
        "    (df['marital-status'] == 'Never-married') &\n",
        "    (df['income'] == '>50K'),\n",
        "    ['age', 'marital-status', 'income']\n",
        "]\n",
        "\n",
        "print(selected_columns)\n",
        "\n",
        "filtered_df = df[\n",
        "    (df['gender'] == \"Male\") &\n",
        "    (df['age'] > 40) &\n",
        "    (df['marital-status'] == 'Never-married') &\n",
        "    (df['income'] == '>50K')\n",
        "]\n",
        "\n",
        "count = len(filtered_df)\n",
        "print(\"\\nมีจำนวนพนักงาน = \", count)\n"
      ]
    },
    {
      "cell_type": "code",
      "execution_count": 699,
      "metadata": {},
      "outputs": [
        {
          "name": "stdout",
          "output_type": "stream",
          "text": [
            "จำนวนชั่วโมงทำงานต่อสัปดาห์มากที่สุด =  99\n"
          ]
        }
      ],
      "source": [
        "# 1.5\n",
        "\n",
        "Work_Hours_Per_Week = df['hours-per-week'].max()\n",
        "print(\"จำนวนชั่วโมงทำงานต่อสัปดาห์มากที่สุด = \",Work_Hours_Per_Week)"
      ]
    },
    {
      "cell_type": "code",
      "execution_count": 700,
      "metadata": {},
      "outputs": [
        {
          "name": "stdout",
          "output_type": "stream",
          "text": [
            "Features ที่มี missing values เป็น '?' :\n",
            "workclass         1951\n",
            "occupation        1957\n",
            "native-country     595\n",
            "dtype: int64\n"
          ]
        }
      ],
      "source": [
        "# 1.6\n",
        "\n",
        "ms_value_questionMarks = (df == '?').sum()\n",
        "\n",
        "featues_question_Marks = ms_value_questionMarks[ms_value_questionMarks > 0]\n",
        "\n",
        "print(\"Features ที่มี missing values เป็น '?' :\")\n",
        "print(featues_question_Marks)"
      ]
    },
    {
      "cell_type": "markdown",
      "metadata": {},
      "source": [
        "## ข้อ 2. เขียนฟังก์ชั่นจัดการ missing values ในชุดข้อมูลนี้"
      ]
    },
    {
      "cell_type": "code",
      "execution_count": 701,
      "metadata": {},
      "outputs": [
        {
          "name": "stdout",
          "output_type": "stream",
          "text": [
            "ก่อนจัดการ Missing Values : \n",
            " age                   0\n",
            "workclass          1951\n",
            "fnlwgt                0\n",
            "education             0\n",
            "educational-num       0\n",
            "marital-status        0\n",
            "occupation         1957\n",
            "relationship          0\n",
            "race                  0\n",
            "gender                0\n",
            "capital-gain          0\n",
            "capital-loss          0\n",
            "hours-per-week        0\n",
            "native-country      596\n",
            "income                1\n",
            "dtype: int64\n"
          ]
        }
      ],
      "source": [
        "# 2\n",
        "\n",
        "import numpy as np\n",
        "\n",
        "df_cleaned = df.replace('?', np.nan)\n",
        "missing_before = df_cleaned.isnull().sum()\n",
        "df_cleaned = df_cleaned.dropna()\n",
        "missing_after = df_cleaned.isnull().sum()\n",
        "print(\"ก่อนจัดการ Missing Values : \\n\", missing_before)"
      ]
    },
    {
      "cell_type": "code",
      "execution_count": 702,
      "metadata": {},
      "outputs": [
        {
          "name": "stdout",
          "output_type": "stream",
          "text": [
            "หลังจัดการ Missing Values : \n",
            " age                0\n",
            "workclass          0\n",
            "fnlwgt             0\n",
            "education          0\n",
            "educational-num    0\n",
            "marital-status     0\n",
            "occupation         0\n",
            "relationship       0\n",
            "race               0\n",
            "gender             0\n",
            "capital-gain       0\n",
            "capital-loss       0\n",
            "hours-per-week     0\n",
            "native-country     0\n",
            "income             0\n",
            "dtype: int64\n"
          ]
        }
      ],
      "source": [
        "# 2\n",
        "print(\"หลังจัดการ Missing Values : \\n\", missing_after)"
      ]
    },
    {
      "cell_type": "code",
      "execution_count": 703,
      "metadata": {},
      "outputs": [
        {
          "name": "stdout",
          "output_type": "stream",
          "text": [
            "(31444, 15)\n"
          ]
        }
      ],
      "source": [
        "# 2\n",
        "print(df_cleaned.shape)"
      ]
    },
    {
      "cell_type": "markdown",
      "metadata": {},
      "source": [
        "## ข้อ 3. แปลง categorical features ให้อยู่ในรูปของ binary features "
      ]
    },
    {
      "cell_type": "code",
      "execution_count": 704,
      "metadata": {},
      "outputs": [
        {
          "name": "stdout",
          "output_type": "stream",
          "text": [
            "binary features :  (31444, 96)\n"
          ]
        }
      ],
      "source": [
        "# 3\n",
        "from sklearn.preprocessing import OneHotEncoder\n",
        "\n",
        "categorical_cols = df_cleaned.select_dtypes(include=['object']).columns.tolist()\n",
        "categorical_cols.remove('income')\n",
        "\n",
        "encoder = OneHotEncoder(drop='first')\n",
        "encoded_array = encoder.fit_transform(df_cleaned[categorical_cols]).toarray()\n",
        "\n",
        "encoded_df = pd.DataFrame(encoded_array, columns=encoder.get_feature_names_out(categorical_cols), index=df_cleaned.index)\n",
        "\n",
        "df_numeric = df_cleaned.drop(columns=categorical_cols)\n",
        "df_final = pd.concat([df_numeric, encoded_df], axis=1)\n",
        "\n",
        "print(\"binary features : \", (df_final.shape))"
      ]
    },
    {
      "cell_type": "markdown",
      "metadata": {
        "id": "twn2u46fE8k2"
      },
      "source": [
        "## ข้อ 4. แบ่งชุดข้อมูลดังกล่าวออกเป็น  80% และ 20% สำหรับฝึก (train) และทดสอบ (test) "
      ]
    },
    {
      "cell_type": "code",
      "execution_count": 705,
      "metadata": {
        "colab": {
          "base_uri": "https://localhost:8080/",
          "height": 424
        },
        "id": "Xo33XmYCXfmq",
        "outputId": "b77b15ba-5f1a-4a82-c0a7-080d3a051eb6"
      },
      "outputs": [
        {
          "name": "stdout",
          "output_type": "stream",
          "text": [
            "จำนวน Train :  25155\n",
            "จำนวน Test :  6289\n"
          ]
        }
      ],
      "source": [
        "from sklearn.model_selection import train_test_split\n",
        "\n",
        "X = df_final.drop(columns=['income'])\n",
        "y = df_final['income']\n",
        "X_train, X_test, y_train, y_test = train_test_split(X, y, test_size=0.2, random_state=42)\n",
        "print(\"จำนวน Train : \",len(X_train))\n",
        "print(\"จำนวน Test : \",len(X_test))"
      ]
    },
    {
      "cell_type": "markdown",
      "metadata": {},
      "source": [
        "## 5. สร้างโมเดล Decision tree โดยใช้ชุดข้อมูล train กำหนดให้ใช้ entropy เป็น split criterion และความลึกสูงสุดของต้นไม้ไม่เกิน 2 ระดับ (level) "
      ]
    },
    {
      "cell_type": "code",
      "execution_count": 706,
      "metadata": {},
      "outputs": [
        {
          "name": "stdout",
          "output_type": "stream",
          "text": [
            "\n",
            "Features ที่ใช้ในการทำ Decision Trees: \n",
            " {'capital-gain', 'educational-num', 'marital-status_Married-civ-spouse'}\n",
            "\n",
            "Features ที่สำคัญ: \n",
            " marital-status_Married-civ-spouse\n",
            "\n",
            "แปลงเป็น if-else แล้ว: \n",
            " |--- marital-status_Married-civ-spouse <= 0.50\n",
            "|   |--- capital-gain <= 7055.50\n",
            "|   |   |--- class: <=50K\n",
            "|   |--- capital-gain >  7055.50\n",
            "|   |   |--- class: >50K\n",
            "|--- marital-status_Married-civ-spouse >  0.50\n",
            "|   |--- educational-num <= 11.50\n",
            "|   |   |--- class: <=50K\n",
            "|   |--- educational-num >  11.50\n",
            "|   |   |--- class: >50K\n",
            "\n"
          ]
        }
      ],
      "source": [
        "from sklearn.tree import DecisionTreeClassifier, export_text\n",
        "\n",
        "\n",
        "clf = DecisionTreeClassifier(criterion='entropy', max_depth=2, random_state=42)\n",
        "clf.fit(X_train, y_train)\n",
        "feature_names = X_train.columns\n",
        "used_features = set(feature_names[i] for i in clf.tree_.feature if i != -2)\n",
        "most_important_feature = feature_names[clf.tree_.feature[0]]\n",
        "tree_rules = export_text(clf, feature_names=list(feature_names))\n",
        "print(\"\\nFeatures ที่ใช้ในการทำ Decision Trees: \\n\", used_features)\n",
        "print(\"\\nFeatures ที่สำคัญ: \\n\", most_important_feature)\n",
        "print(\"\\nแปลงเป็น if-else แล้ว: \\n\", tree_rules)"
      ]
    },
    {
      "cell_type": "markdown",
      "metadata": {
        "id": "1_bhttVhFmQu"
      },
      "source": [
        "## ข้อ 6. ความแม่นยำ (accuracy) ของโมเดล decision tree บนชุดข้อมูลทดสอบ "
      ]
    },
    {
      "cell_type": "code",
      "execution_count": 707,
      "metadata": {
        "colab": {
          "base_uri": "https://localhost:8080/"
        },
        "id": "kf49ufvfFsE9",
        "outputId": "a10acb2c-4e9a-4147-8d48-03ad906ec484"
      },
      "outputs": [
        {
          "name": "stdout",
          "output_type": "stream",
          "text": [
            "ความแม่นยำ (accuracy) ของโมเดล decision tree: 82.64%\n"
          ]
        }
      ],
      "source": [
        "from sklearn.metrics import accuracy_score\n",
        "\n",
        "y_pred = clf.predict(X_test)\n",
        "accuracy = accuracy_score(y_test, y_pred)\n",
        "print(f\"ความแม่นยำ (accuracy) ของโมเดล decision tree: {accuracy*100:.2f}%\")"
      ]
    },
    {
      "cell_type": "markdown",
      "metadata": {
        "id": "REGfr7ZZFsPF"
      },
      "source": [
        "### ข้อ 7. สร้างโมเดล random forest โดยกำหนดความลึกสูงสุดของต้นไม้เท่ากับ 3 ขณะที่จำนวนต้นไม้ย่อย (n_estimator) ใช้ GridSearchCV ค้นหาค่าที่ดีที่สุดบนชุดข้อมูล train กำหนดช่วงค่าอยู่ระหว่าง 6 ถึง 10"
      ]
    },
    {
      "cell_type": "code",
      "execution_count": 708,
      "metadata": {
        "colab": {
          "base_uri": "https://localhost:8080/",
          "height": 807
        },
        "id": "gXAMeelGF-xW",
        "outputId": "93a44c23-7d2e-43bb-f455-eaa51d33976f"
      },
      "outputs": [
        {
          "name": "stdout",
          "output_type": "stream",
          "text": [
            "ค่าที่ดีที่สุด:  6\n"
          ]
        }
      ],
      "source": [
        "from sklearn.ensemble import RandomForestClassifier\n",
        "from sklearn.model_selection import GridSearchCV\n",
        "\n",
        "rf = RandomForestClassifier(max_depth=3, random_state=42)\n",
        "param_grid = {'n_estimators': list(range(6, 11))}\n",
        "grid_search = GridSearchCV(rf, param_grid, cv=5, scoring='accuracy')\n",
        "grid_search.fit(X_train, y_train)\n",
        "\n",
        "best_n_estimators = grid_search.best_params_['n_estimators']\n",
        "print(\"ค่าที่ดีที่สุด: \", best_n_estimators)\n"
      ]
    },
    {
      "cell_type": "markdown",
      "metadata": {},
      "source": [
        "### 8.\tแสดงต้นไม้ random forest ที่สร้างได้ 6 ต้นแรก   "
      ]
    },
    {
      "cell_type": "code",
      "execution_count": 709,
      "metadata": {},
      "outputs": [
        {
          "data": {
            "image/png": "[encoded data removed]",
            "text/plain": [
              "<Figure size 1800x1000 with 6 Axes>"
            ]
          },
          "metadata": {},
          "output_type": "display_data"
        }
      ],
      "source": [
        "import matplotlib.pyplot as plt\n",
        "from sklearn.tree import plot_tree\n",
        "\n",
        "best_rf = RandomForestClassifier(n_estimators=6, max_depth=3, random_state=42)\n",
        "best_rf.fit(X_train, y_train)\n",
        "\n",
        "fig, axes = plt.subplots(nrows=2, ncols=3, figsize=(18, 10))\n",
        "for i, tree in enumerate(best_rf.estimators_[:6]):\n",
        "    plot_tree(tree,\n",
        "              feature_names=X_train.columns,\n",
        "              class_names=best_rf.classes_,\n",
        "              filled=True,\n",
        "              max_depth=3,\n",
        "              ax=axes[i // 3, i % 3])\n",
        "    axes[i // 3, i % 3].set_title(f\"Tree {i+1}\")\n",
        "\n",
        "plt.tight_layout()\n",
        "plt.show()"
      ]
    },
    {
      "cell_type": "markdown",
      "metadata": {
        "id": "IXnhSIFOFy5K"
      },
      "source": [
        "## 9.\tความแม่นยำ (accuracy) ของโมเดล random forest บนชุดข้อมูลทดสอบ "
      ]
    },
    {
      "cell_type": "code",
      "execution_count": 710,
      "metadata": {
        "colab": {
          "base_uri": "https://localhost:8080/"
        },
        "id": "GTUGPxe0Zn4S",
        "outputId": "83f812ed-78e7-4b0f-92e0-b48d6cbef29d"
      },
      "outputs": [
        {
          "name": "stdout",
          "output_type": "stream",
          "text": [
            "ความแม่นยำ (accuracy) ของโมเดล random forest: 78.30%\n"
          ]
        }
      ],
      "source": [
        "y_pred_rf = best_rf.predict(X_test)\n",
        "\n",
        "rf_accuracy = accuracy_score(y_test, y_pred_rf)\n",
        "print(f\"ความแม่นยำ (accuracy) ของโมเดล random forest: {rf_accuracy*100:.2f}%\")"
      ]
    },
    {
      "cell_type": "markdown",
      "metadata": {
        "id": "rbajv5ppGG6g"
      },
      "source": [
        "## ข้อ 10. ปรับปรุงโมเดล random forest จากข้อ 7 โดยใช้อัลกอริทึม XgBoost พร้อมแสดงค่าความแม่นยำบนชุดข้อมูลทดสอบ (test data) "
      ]
    },
    {
      "cell_type": "code",
      "execution_count": null,
      "metadata": {
        "colab": {
          "base_uri": "https://localhost:8080/",
          "height": 75
        },
        "id": "pjb6ERtmGHEU",
        "outputId": "31801dfd-faf1-4fff-e419-206936dc89b2"
      },
      "outputs": [],
      "source": []
    },
    {
      "cell_type": "markdown",
      "metadata": {
        "id": "O3Hs-SSNkuk3"
      },
      "source": [
        "## ข้อ 11. ทดลองใช้ GridSearchCV เพื่อหาจำนวนต้นไม้ย่อยใน XgBoost ที่ให้ผลลัพธ์สูงที่สุด จากการกำหนดค่าความลึกตั้งแต่ 2 ถึง 4 ระดับ และจำนวนต้นไม้ย่อยตั้งแต่  1 ถึง 20 ต้น "
      ]
    },
    {
      "cell_type": "code",
      "execution_count": null,
      "metadata": {
        "colab": {
          "base_uri": "https://localhost:8080/",
          "height": 413
        },
        "id": "4hPYpWIQapw9",
        "outputId": "633609c7-a8d6-4c05-85d1-1af1f55d48fb"
      },
      "outputs": [],
      "source": []
    },
    {
      "cell_type": "markdown",
      "metadata": {
        "id": "bsLOKHjjfYIK"
      },
      "source": [
        "## ข้อ 12.\tบันทึกโมเดล XGboost ในรูปแบบของไฟล์ pickle ตั้งชื่อ XgB.pkl."
      ]
    },
    {
      "cell_type": "code",
      "execution_count": null,
      "metadata": {
        "id": "QBCTN9P7HGKO"
      },
      "outputs": [],
      "source": []
    }
  ],
  "metadata": {
    "colab": {
      "provenance": []
    },
    "kernelspec": {
      "display_name": "Python 3",
      "language": "python",
      "name": "python3"
    },
    "language_info": {
      "codemirror_mode": {
        "name": "ipython",
        "version": 3
      },
      "file_extension": ".py",
      "mimetype": "text/x-python",
      "name": "python",
      "nbconvert_exporter": "python",
      "pygments_lexer": "ipython3",
      "version": "3.11.9"
    }
  },
  "nbformat": 4,
  "nbformat_minor": 0
}
